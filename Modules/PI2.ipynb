{
 "cells": [
  {
   "cell_type": "code",
   "execution_count": null,
   "metadata": {
    "slideshow": {
     "slide_type": "skip"
    }
   },
   "outputs": [],
   "source": [
    "import numpy as np\n",
    "import pandas as pd\n",
    "import matplotlib.pyplot as plt\n",
    "import plotly.graph_objects as go\n",
    "import plotly.express as px\n",
    "import yfinance as yf\n",
    "from yfapi import YahooFinanceAPI, Interval\n",
    "import datetime as dt"
   ]
  },
  {
   "cell_type": "markdown",
   "metadata": {
    "slideshow": {
     "slide_type": "slide"
    }
   },
   "source": [
    "Cargamos el archivo CSV previamente generado"
   ]
  },
  {
   "cell_type": "code",
   "execution_count": null,
   "metadata": {
    "slideshow": {
     "slide_type": "fragment"
    }
   },
   "outputs": [],
   "source": [
    "df_symbols = pd.read_csv('sp500.csv', sep=',')\n",
    "df_symbols.drop(columns='Unnamed: 0', inplace=True)\n",
    "df_symbols.fillna(0, inplace=True)"
   ]
  },
  {
   "cell_type": "code",
   "execution_count": null,
   "metadata": {
    "slideshow": {
     "slide_type": "fragment"
    }
   },
   "outputs": [],
   "source": [
    "df_symbols.head()"
   ]
  },
  {
   "cell_type": "code",
   "execution_count": null,
   "metadata": {
    "slideshow": {
     "slide_type": "skip"
    }
   },
   "outputs": [],
   "source": [
    "df_symbols_2018 = df_symbols[df_symbols.Year.between(2018,2021, inclusive='both')]"
   ]
  },
  {
   "cell_type": "markdown",
   "metadata": {
    "slideshow": {
     "slide_type": "skip"
    }
   },
   "source": [
    "## Análisis"
   ]
  },
  {
   "cell_type": "markdown",
   "metadata": {
    "slideshow": {
     "slide_type": "slide"
    }
   },
   "source": [
    "1. Mejor día para invertir teniendo en cuenta el retorno de los: \n",
    " - `Movimiento gap`\n",
    " - `Movimientos intradiarios`"
   ]
  },
  {
   "cell_type": "markdown",
   "metadata": {
    "slideshow": {
     "slide_type": "subslide"
    }
   },
   "source": [
    "Agrupamos por día de la semana para obtener el `promedio` de los mismos.<br>\n",
    "Ordenamos el resultado para obtener de mayor a menor, los días de la semana con mayor resultado en ambos campos y obtenemos que..."
   ]
  },
  {
   "cell_type": "code",
   "execution_count": null,
   "metadata": {
    "slideshow": {
     "slide_type": "fragment"
    }
   },
   "outputs": [],
   "source": [
    "data = df_symbols.groupby(['DayOfWk'])\n",
    "\n",
    "#Retorno Gap\n",
    "df_retGap = pd.DataFrame(data['RetGap'].mean().sort_values(ascending=False))\n",
    "df_retGap.reset_index(inplace=True)\n",
    "\n",
    "#Retorno Intradiario\n",
    "df_retIntra = pd.DataFrame(data['RetIntra'].mean().sort_values(ascending=False))\n",
    "df_retIntra.reset_index(inplace=True)"
   ]
  },
  {
   "cell_type": "markdown",
   "metadata": {
    "slideshow": {
     "slide_type": "subslide"
    }
   },
   "source": [
    "Datos desde 2000 hasta 2021"
   ]
  },
  {
   "cell_type": "code",
   "execution_count": null,
   "metadata": {
    "slideshow": {
     "slide_type": "fragment"
    }
   },
   "outputs": [],
   "source": [
    "print(f'''El mejor día de la semana para invertir, teniendo en cuenta el: \n",
    "Retorno Gap es {df_retGap['DayOfWk'][0]}\n",
    "Retorno Intradiario es {df_retIntra['DayOfWk'][0]}''')"
   ]
  },
  {
   "cell_type": "markdown",
   "metadata": {
    "slideshow": {
     "slide_type": "subslide"
    }
   },
   "source": [
    "Gráficamente podemos observar..."
   ]
  },
  {
   "cell_type": "code",
   "execution_count": null,
   "metadata": {
    "slideshow": {
     "slide_type": "skip"
    }
   },
   "outputs": [],
   "source": [
    "#Función para graficar Retorno Gap e Intradiario\n",
    "def graficoRetorno( p_x, p_y, p_text, p_title ):\n",
    "    colors_list = ['Red','Orange', 'Blue', 'Purple', 'Green']\n",
    "    plt.figure(figsize=(10,8))\n",
    "    graph = plt.bar( p_x,p_y, color = colors_list)\n",
    "    plt.xlabel('Día de la Semana')\n",
    "    plt.title(p_title)\n",
    "    for i, p in enumerate(graph):\n",
    "        width = p.get_width()\n",
    "        height = p.get_height()\n",
    "        x, y = p.get_xy()\n",
    "        plt.text(x+width/2,y+height*1.01,s=str(round(p_text[i],6))+'%',ha='center',weight='bold')\n",
    "    plt.show()"
   ]
  },
  {
   "cell_type": "code",
   "execution_count": null,
   "metadata": {
    "slideshow": {
     "slide_type": "fragment"
    }
   },
   "outputs": [],
   "source": [
    "graficoRetorno(p_x=df_retGap['DayOfWk'], p_y=df_retGap['RetGap'], p_text=df_retGap['RetGap'], p_title='Retorno Gap por Día de la Semana')"
   ]
  },
  {
   "cell_type": "code",
   "execution_count": null,
   "metadata": {
    "slideshow": {
     "slide_type": "subslide"
    }
   },
   "outputs": [],
   "source": [
    "graficoRetorno(p_x=df_retIntra['DayOfWk'], p_y=df_retIntra['RetIntra'], p_text=df_retIntra['RetIntra'], p_title='Retorno Intradiario por Día de la Semana')"
   ]
  },
  {
   "cell_type": "markdown",
   "metadata": {
    "slideshow": {
     "slide_type": "subslide"
    }
   },
   "source": [
    "Mismo análisis, datos desde el 2018 hasta 2021"
   ]
  },
  {
   "cell_type": "code",
   "execution_count": null,
   "metadata": {
    "slideshow": {
     "slide_type": "skip"
    }
   },
   "outputs": [],
   "source": [
    "data = df_symbols_2018.groupby(['DayOfWk'])\n",
    "#Retorno Gap\n",
    "df_retGap = pd.DataFrame(data['RetGap'].mean().sort_values(ascending=False))\n",
    "df_retGap.reset_index(inplace=True)\n",
    "#Retorno Intradiario\n",
    "df_retIntra = pd.DataFrame(data['RetIntra'].mean().sort_values(ascending=False))\n",
    "df_retIntra.reset_index(inplace=True)"
   ]
  },
  {
   "cell_type": "code",
   "execution_count": null,
   "metadata": {
    "slideshow": {
     "slide_type": "fragment"
    }
   },
   "outputs": [],
   "source": [
    "print(f'''El mejor día de la semana para invertir, teniendo en cuenta el: \n",
    "Retorno Gap es {df_retGap['DayOfWk'][0]}\n",
    "Retorno Intradiario es {df_retIntra['DayOfWk'][0]}''')"
   ]
  },
  {
   "cell_type": "markdown",
   "metadata": {
    "slideshow": {
     "slide_type": "subslide"
    }
   },
   "source": [
    "Gráficamente..."
   ]
  },
  {
   "cell_type": "code",
   "execution_count": null,
   "metadata": {
    "slideshow": {
     "slide_type": "fragment"
    }
   },
   "outputs": [],
   "source": [
    "graficoRetorno(p_x=df_retGap['DayOfWk'], p_y=df_retGap['RetGap'], p_text=df_retGap['RetGap'], p_title='Retorno Gap por Día de la Semana')"
   ]
  },
  {
   "cell_type": "code",
   "execution_count": null,
   "metadata": {
    "slideshow": {
     "slide_type": "subslide"
    }
   },
   "outputs": [],
   "source": [
    "graficoRetorno(p_x=df_retIntra['DayOfWk'], p_y=df_retIntra['RetIntra'], p_text=df_retIntra['RetIntra'], p_title='Retorno Intradiario por Día de la Semana')"
   ]
  },
  {
   "cell_type": "markdown",
   "metadata": {
    "slideshow": {
     "slide_type": "slide"
    }
   },
   "source": [
    "2. Mejores industrias para invertir dentro del `S&P500`"
   ]
  },
  {
   "cell_type": "markdown",
   "metadata": {
    "slideshow": {
     "slide_type": "fragment"
    }
   },
   "source": [
    "Agrupamos por industria para determinar el promedio de los indicadores para cada una de ellas.<br>\n",
    "A partir de aquí, ordenamos el resultado de mayor a menor teniendo en cuenta:\n",
    "- `Retorno Gap, Retorno Intradiario y Variación.`<br>\n",
    "Nótese que descartamos `Volatilidad` cómo indicador. Esto es debido a que consideramos que cuando las acciones de una empresa son más estables, es decir, menos volátiles, será una inversión más segura y recomendable."
   ]
  },
  {
   "cell_type": "code",
   "execution_count": null,
   "metadata": {
    "slideshow": {
     "slide_type": "fragment"
    }
   },
   "outputs": [],
   "source": [
    "df = df_symbols.groupby(by=['Industry'])\n",
    "df_ind_porc = df[['RetGap','RetIntra','Var','Volat']].mean().sort_values(by=['RetGap','RetIntra','Var'], ascending=False)\n",
    "df_ind_porc.reset_index(inplace=True)"
   ]
  },
  {
   "cell_type": "markdown",
   "metadata": {
    "slideshow": {
     "slide_type": "subslide"
    }
   },
   "source": [
    "Datos desde 2000 hasta 2021"
   ]
  },
  {
   "cell_type": "code",
   "execution_count": null,
   "metadata": {
    "slideshow": {
     "slide_type": "fragment"
    }
   },
   "outputs": [],
   "source": [
    "n = 3\n",
    "print(f'A partir de este análisis, podemos decir que las {n} mejores industrias para invertir son:')\n",
    "for i, industry in enumerate(list(df_ind_porc['Industry'][:n])):\n",
    "    print(f'{i+1}- {industry}')"
   ]
  },
  {
   "cell_type": "markdown",
   "metadata": {
    "slideshow": {
     "slide_type": "subslide"
    }
   },
   "source": [
    "Gráficamente podemos constatar..."
   ]
  },
  {
   "cell_type": "code",
   "execution_count": null,
   "metadata": {
    "slideshow": {
     "slide_type": "skip"
    }
   },
   "outputs": [],
   "source": [
    "width = 0.4\n",
    "industries = list(df_ind_porc['Industry'])\n",
    "gaps = list(df_ind_porc['RetGap'])\n",
    "intra = list(df_ind_porc['RetIntra'])\n",
    "vars = list(df_ind_porc['Var'])\n",
    "\n",
    "n = np.arange(len(industries))"
   ]
  },
  {
   "cell_type": "code",
   "execution_count": null,
   "metadata": {
    "slideshow": {
     "slide_type": "skip"
    }
   },
   "outputs": [],
   "source": [
    "def chartIndustries():\n",
    "    plt.figure(figsize=(30,12.5))\n",
    "    plt.bar(n, gaps, width=width, label='Retorno Gap')\n",
    "    plt.bar(n+width, intra, width=width, label='Retorno Intradiario')\n",
    "    plt.bar(n-width, vars, width=width, label='Varianza')\n",
    "    plt.legend()\n",
    "    plt.xticks(n, industries)\n",
    "    plt.show()"
   ]
  },
  {
   "cell_type": "code",
   "execution_count": null,
   "metadata": {
    "slideshow": {
     "slide_type": "fragment"
    }
   },
   "outputs": [],
   "source": [
    "chartIndustries()"
   ]
  },
  {
   "cell_type": "markdown",
   "metadata": {
    "slideshow": {
     "slide_type": "subslide"
    }
   },
   "source": [
    "Mismo análisis, datos desde 2018 hasta 2021"
   ]
  },
  {
   "cell_type": "code",
   "execution_count": null,
   "metadata": {
    "slideshow": {
     "slide_type": "skip"
    }
   },
   "outputs": [],
   "source": [
    "df = df_symbols_2018.groupby(by=['Industry'])\n",
    "df_ind_porc = df[['RetGap','RetIntra','Var','Volat']].mean().sort_values(by=['RetGap','RetIntra','Var'], ascending=False)\n",
    "df_ind_porc.reset_index(inplace=True)"
   ]
  },
  {
   "cell_type": "code",
   "execution_count": null,
   "metadata": {
    "slideshow": {
     "slide_type": "fragment"
    }
   },
   "outputs": [],
   "source": [
    "n = 3\n",
    "print(f'A partir de este análisis, podemos decir que las {n} mejores industrias para invertir son:')\n",
    "for i, industry in enumerate(list(df_ind_porc['Industry'][:n])):\n",
    "    print(f'{i+1}- {industry}')"
   ]
  },
  {
   "cell_type": "code",
   "execution_count": null,
   "metadata": {
    "slideshow": {
     "slide_type": "skip"
    }
   },
   "outputs": [],
   "source": [
    "width = 0.4\n",
    "industries = list(df_ind_porc['Industry'])\n",
    "gaps = list(df_ind_porc['RetGap'])\n",
    "intra = list(df_ind_porc['RetIntra'])\n",
    "vars = list(df_ind_porc['Var'])\n",
    "\n",
    "n = np.arange(len(industries))"
   ]
  },
  {
   "cell_type": "code",
   "execution_count": null,
   "metadata": {
    "slideshow": {
     "slide_type": "subslide"
    }
   },
   "outputs": [],
   "source": [
    "chartIndustries()"
   ]
  },
  {
   "cell_type": "markdown",
   "metadata": {
    "slideshow": {
     "slide_type": "slide"
    }
   },
   "source": [
    "3. Momentos de `alta volatilidad` que afectaron al `SP500`\n",
    "Agrupamos por fecha y calculamos el promedio de la volatilidad"
   ]
  },
  {
   "cell_type": "code",
   "execution_count": null,
   "metadata": {
    "slideshow": {
     "slide_type": "fragment"
    }
   },
   "outputs": [],
   "source": [
    "data = df_symbols.groupby(by=['Date'])\n",
    "alta_volat = pd.DataFrame( data['Volat'].mean().sort_values(ascending=False) )\n",
    "alta_volat.reset_index(inplace=True)"
   ]
  },
  {
   "cell_type": "markdown",
   "metadata": {
    "slideshow": {
     "slide_type": "subslide"
    }
   },
   "source": [
    "Datos desde 2000 hasta 2021"
   ]
  },
  {
   "cell_type": "code",
   "execution_count": null,
   "metadata": {
    "slideshow": {
     "slide_type": "fragment"
    }
   },
   "outputs": [],
   "source": [
    "alta_volat.head()"
   ]
  },
  {
   "cell_type": "code",
   "execution_count": null,
   "metadata": {
    "slideshow": {
     "slide_type": "skip"
    }
   },
   "outputs": [],
   "source": [
    "from PIL import Image"
   ]
  },
  {
   "cell_type": "code",
   "execution_count": null,
   "metadata": {
    "slideshow": {
     "slide_type": "skip"
    }
   },
   "outputs": [],
   "source": [
    "fig = px.histogram(df_symbols, x='Date', y='Volat', title='Volatilidad desde 2000 hasta 2021' )\n",
    "fig.show()"
   ]
  },
  {
   "cell_type": "markdown",
   "metadata": {
    "slideshow": {
     "slide_type": "subslide"
    }
   },
   "source": [
    "Mismo análisis, datos desde 2018 hasta 2021"
   ]
  },
  {
   "cell_type": "code",
   "execution_count": null,
   "metadata": {
    "slideshow": {
     "slide_type": "skip"
    }
   },
   "outputs": [],
   "source": [
    "data = df_symbols_2018.groupby(by=['Date'])\n",
    "alta_volat = pd.DataFrame( data['Volat'].mean().sort_values(ascending=False) )\n",
    "alta_volat.reset_index(inplace=True)"
   ]
  },
  {
   "cell_type": "code",
   "execution_count": null,
   "metadata": {
    "slideshow": {
     "slide_type": "fragment"
    }
   },
   "outputs": [],
   "source": [
    "alta_volat.head()"
   ]
  },
  {
   "cell_type": "code",
   "execution_count": null,
   "metadata": {
    "slideshow": {
     "slide_type": "skip"
    }
   },
   "outputs": [],
   "source": [
    "fig = px.histogram(df_symbols_2018, x='Date', y='Volat', title='Volatilidad desde 2018 hasta 2021' )\n",
    "fig.show()"
   ]
  },
  {
   "cell_type": "markdown",
   "metadata": {
    "slideshow": {
     "slide_type": "slide"
    }
   },
   "source": [
    "4. Nueve `mejores` empresas para invertir dentro del `S&P500`"
   ]
  },
  {
   "cell_type": "markdown",
   "metadata": {
    "slideshow": {
     "slide_type": "fragment"
    }
   },
   "source": [
    "Tomamos cómo sustento los indicadores Retorno Gap, Intradiario, y Varianza"
   ]
  },
  {
   "cell_type": "code",
   "execution_count": null,
   "metadata": {
    "slideshow": {
     "slide_type": "fragment"
    }
   },
   "outputs": [],
   "source": [
    "data = df_symbols.groupby(by=['Name'])\n",
    "nueve_mjs = data[['RetGap','RetIntra','Var','Volat']].mean().sort_values(by=['RetGap','RetIntra','Var'], ascending=False).iloc[:9]\n",
    "nueve_mjs.reset_index(inplace=True)"
   ]
  },
  {
   "cell_type": "markdown",
   "metadata": {
    "slideshow": {
     "slide_type": "subslide"
    }
   },
   "source": [
    "Datos desde 2000 hasta 2021"
   ]
  },
  {
   "cell_type": "code",
   "execution_count": null,
   "metadata": {
    "slideshow": {
     "slide_type": "fragment"
    }
   },
   "outputs": [],
   "source": [
    "nueve_mjs"
   ]
  },
  {
   "cell_type": "code",
   "execution_count": null,
   "metadata": {
    "slideshow": {
     "slide_type": "skip"
    }
   },
   "outputs": [],
   "source": [
    "fig = px.bar(nueve_mjs, x=\"Name\", y=['RetGap','RetIntra','Var'], barmode='group', title=\"Indicadores por Empresa 2000 a 2021\")\n",
    "fig.show()"
   ]
  },
  {
   "cell_type": "code",
   "execution_count": null,
   "metadata": {
    "slideshow": {
     "slide_type": "skip"
    }
   },
   "outputs": [],
   "source": [
    "data = df_symbols_2018.groupby(by=['Name'])\n",
    "nueve_mjs = data[['RetGap','RetIntra','Var','Volat']].mean().sort_values(by=['RetGap','RetIntra','Var'], ascending=False).iloc[:9]\n",
    "nueve_mjs.reset_index(inplace=True)"
   ]
  },
  {
   "cell_type": "markdown",
   "metadata": {
    "slideshow": {
     "slide_type": "subslide"
    }
   },
   "source": [
    "Mismo análisis, datos desde 2018 hasta 2021"
   ]
  },
  {
   "cell_type": "code",
   "execution_count": null,
   "metadata": {
    "slideshow": {
     "slide_type": "fragment"
    }
   },
   "outputs": [],
   "source": [
    "nueve_mjs"
   ]
  },
  {
   "cell_type": "code",
   "execution_count": null,
   "metadata": {
    "slideshow": {
     "slide_type": "skip"
    }
   },
   "outputs": [],
   "source": [
    "fig = px.bar(nueve_mjs, x=\"Name\", y=['RetGap','RetIntra','Var'], barmode='group', title=\"Indicadores por Empresa 2018 a 2021\")\n",
    "fig.show()"
   ]
  }
 ],
 "metadata": {
  "kernelspec": {
   "display_name": "Python 3 (ipykernel)",
   "language": "python",
   "name": "python3"
  },
  "language_info": {
   "codemirror_mode": {
    "name": "ipython",
    "version": 3
   },
   "file_extension": ".py",
   "mimetype": "text/x-python",
   "name": "python",
   "nbconvert_exporter": "python",
   "pygments_lexer": "ipython3",
   "version": "3.9.12"
  },
  "vscode": {
   "interpreter": {
    "hash": "d59188d4896eefa458adbde0a22fa3377d8bf8df8852b39086b33cf8e08083f6"
   }
  }
 },
 "nbformat": 4,
 "nbformat_minor": 2
}
