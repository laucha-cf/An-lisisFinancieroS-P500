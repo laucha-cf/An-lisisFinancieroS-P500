{
 "cells": [
  {
   "cell_type": "code",
   "execution_count": null,
   "metadata": {},
   "outputs": [],
   "source": [
    "import numpy as np\n",
    "import pandas as pd\n",
    "import matplotlib.pyplot as plt\n",
    "import yfinance as yf\n",
    "from yfapi import YahooFinanceAPI, Interval\n",
    "import datetime as dt\n",
    "import wikipedia as wiki"
   ]
  },
  {
   "cell_type": "markdown",
   "metadata": {},
   "source": [
    "Obtenemos la lista del SP500 de wikipedia."
   ]
  },
  {
   "cell_type": "code",
   "execution_count": null,
   "metadata": {},
   "outputs": [],
   "source": [
    "html = wiki.page('List of S&P companies').html().encode('UTF-8')\n",
    "data = pd.read_html(html)[0]\n",
    "symbol_list = list(data['Symbol'].values)\n",
    "industry_list = list(data['GICS Sector'].values)\n",
    "name_list = list(data['Security'].values)"
   ]
  },
  {
   "cell_type": "markdown",
   "metadata": {},
   "source": [
    "Cargamos los datos de Yahoo Finance a un DataFrame con las 500 empresas."
   ]
  },
  {
   "cell_type": "code",
   "execution_count": null,
   "metadata": {},
   "outputs": [],
   "source": [
    "dh = YahooFinanceAPI(Interval.DAILY)\n",
    "start = dt.datetime(2000, 1, 1)\n",
    "end = dt.datetime(2021, 12, 31)"
   ]
  },
  {
   "cell_type": "markdown",
   "metadata": {},
   "source": [
    "Esta función carga el dataset por símbolo y agrega los cálculos pertinentes:<br>\n",
    "`Retorno Gap, Retorno Intra, Variación y Volatilidad.`"
   ]
  },
  {
   "cell_type": "code",
   "execution_count": null,
   "metadata": {},
   "outputs": [],
   "source": [
    "def getSymbolData( p_symbol, p_name, p_industry, p_start, p_end ):\n",
    "    df = dh.get_ticker_data(p_symbol, start_date=p_start, end_date=p_end)\n",
    "    df.insert(loc=0, column='Symbol', value=p_symbol)\n",
    "    df.insert(loc=1, column='Name', value=p_name)\n",
    "    df.insert(loc=2, column='Industry', value=p_industry)\n",
    "    \n",
    "    df['RetGap']   = np.log(df.Close/df.Close.shift(1)).fillna(0)\n",
    "    \n",
    "    df['RetIntra'] = np.log(df.Close/df.Open).fillna(0)\n",
    "    \n",
    "    df['Var']      = df['Adj Close'].pct_change()\n",
    "    \n",
    "    df['Volat']    = df['Var'].rolling(250).std()*100*(250)**0.5\n",
    "    return df"
   ]
  },
  {
   "cell_type": "markdown",
   "metadata": {},
   "source": [
    "Esta función devuelve un dataFrame maestro con los datasets de todos los símbolos."
   ]
  },
  {
   "cell_type": "code",
   "execution_count": null,
   "metadata": {},
   "outputs": [],
   "source": [
    "def getMasterDataframe():\n",
    "    df_symbols = []\n",
    "    for i, symbol in enumerate(symbol_list):\n",
    "        try:\n",
    "            data = getSymbolData( symbol, name_list[i], industry_list[i], start, end )\n",
    "            df_symbols.append(data)\n",
    "        except:\n",
    "            continue\n",
    "    \n",
    "    return pd.concat(df_symbols, ignore_index=True)"
   ]
  },
  {
   "cell_type": "markdown",
   "metadata": {},
   "source": [
    "Creamos el dataFrame Maestro con todas las empresas."
   ]
  },
  {
   "cell_type": "code",
   "execution_count": null,
   "metadata": {},
   "outputs": [],
   "source": [
    "df_symbols = getMasterDataframe()"
   ]
  },
  {
   "cell_type": "markdown",
   "metadata": {},
   "source": [
    "Agregamos columnas que nos serán de utilidad a la hora de graficar."
   ]
  },
  {
   "cell_type": "code",
   "execution_count": null,
   "metadata": {},
   "outputs": [],
   "source": [
    "#Convertimos la fecha a tipo Date\n",
    "df_symbols['Date'] = pd.to_datetime(df_symbols['Date'], format='%Y-%m-%d')\n",
    "#Agregamos el dia de la semana cómo columna\n",
    "df_symbols['DayOfWk'] = df_symbols['Date'].dt.day_name()\n",
    "#Agregamos el año cómo columna\n",
    "df_symbols['Year'] = df_symbols['Date'].dt.year"
   ]
  },
  {
   "cell_type": "markdown",
   "metadata": {},
   "source": [
    "Exportamos nuestro DataFrame."
   ]
  },
  {
   "cell_type": "code",
   "execution_count": null,
   "metadata": {},
   "outputs": [],
   "source": [
    "#Exportamos a CSV\n",
    "df_symbols.to_csv('sp500.csv')"
   ]
  }
 ],
 "metadata": {
  "kernelspec": {
   "display_name": "Python 3 (ipykernel)",
   "language": "python",
   "name": "python3"
  },
  "language_info": {
   "codemirror_mode": {
    "name": "ipython",
    "version": 3
   },
   "file_extension": ".py",
   "mimetype": "text/x-python",
   "name": "python",
   "nbconvert_exporter": "python",
   "pygments_lexer": "ipython3",
   "version": "3.9.12"
  }
 },
 "nbformat": 4,
 "nbformat_minor": 2
}
